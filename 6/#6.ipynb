{
 "cells": [
  {
   "cell_type": "markdown",
   "id": "61772ce1",
   "metadata": {},
   "source": [
    "# Практическое задание №6"
   ]
  },
  {
   "cell_type": "markdown",
   "id": "9f9d529e",
   "metadata": {},
   "source": [
    "- Построить корреляционную матрицу по метрическим показателям и найти наиболее значимую корреляцию. Для этого случая построить двумерную диаграмму. Применить модель множественной регрессии для зависимой переменной индекс МТ детский и независимыми переменными: возраст, рост, вес, имт, диастолический размер левого желудочка, фракция выброса. Определить значимость прогноза и наиболее значимые переменные.\n",
    "- Факторный анализ. Проинтерпретировать главные компоненты, определить вклад первых двух в общую дисперсию и построить двумерную диаграмму первых двух факторов.\n",
    "- Дискриминантный анализ. Выяснить возможности классификации детей с разными формами ожирения."
   ]
  },
  {
   "cell_type": "code",
   "execution_count": 1,
   "id": "ed175aae",
   "metadata": {},
   "outputs": [],
   "source": [
    "import pandas as pd\n",
    "import numpy as np\n",
    "import scipy\n",
    "import seaborn as sns\n",
    "import matplotlib.pyplot as plt\n",
    "import statsmodels.api as sm\n",
    "from sklearn.decomposition import FactorAnalysis"
   ]
  },
  {
   "cell_type": "code",
   "execution_count": 2,
   "id": "7ef9b7fb",
   "metadata": {},
   "outputs": [],
   "source": [
    "import warnings\n",
    "warnings.filterwarnings('ignore')"
   ]
  },
  {
   "cell_type": "markdown",
   "id": "ec35ab2f",
   "metadata": {},
   "source": [
    "Считаем данные:"
   ]
  },
  {
   "cell_type": "code",
   "execution_count": 3,
   "id": "d3bcaed2",
   "metadata": {},
   "outputs": [],
   "source": [
    "df = pd.read_csv(\"dataX.csv\")"
   ]
  },
  {
   "cell_type": "code",
   "execution_count": 4,
   "id": "9a5f1e78",
   "metadata": {},
   "outputs": [
    {
     "data": {
      "text/html": [
       "<div>\n",
       "<style scoped>\n",
       "    .dataframe tbody tr th:only-of-type {\n",
       "        vertical-align: middle;\n",
       "    }\n",
       "\n",
       "    .dataframe tbody tr th {\n",
       "        vertical-align: top;\n",
       "    }\n",
       "\n",
       "    .dataframe thead th {\n",
       "        text-align: right;\n",
       "    }\n",
       "</style>\n",
       "<table border=\"1\" class=\"dataframe\">\n",
       "  <thead>\n",
       "    <tr style=\"text-align: right;\">\n",
       "      <th></th>\n",
       "      <th>Unnamed: 0</th>\n",
       "      <th>Sex</th>\n",
       "      <th>Age</th>\n",
       "      <th>Половое.развитие..0...допубертатное..1..отставание..2...норма..3...опережение</th>\n",
       "      <th>liv</th>\n",
       "      <th>eye</th>\n",
       "      <th>sss</th>\n",
       "      <th>kidneys</th>\n",
       "      <th>OL</th>\n",
       "      <th>рост.см.</th>\n",
       "      <th>вес.кг.</th>\n",
       "      <th>ИМТ</th>\n",
       "      <th>Z.Score_Height.ageWHO</th>\n",
       "      <th>LZ_KDR</th>\n",
       "      <th>FV_Tejh</th>\n",
       "    </tr>\n",
       "  </thead>\n",
       "  <tbody>\n",
       "    <tr>\n",
       "      <th>0</th>\n",
       "      <td>1</td>\n",
       "      <td>1</td>\n",
       "      <td>13.5863</td>\n",
       "      <td>NaN</td>\n",
       "      <td>0</td>\n",
       "      <td>0</td>\n",
       "      <td>0</td>\n",
       "      <td>0</td>\n",
       "      <td>2</td>\n",
       "      <td>177.0</td>\n",
       "      <td>87.6</td>\n",
       "      <td>27.9613</td>\n",
       "      <td>2.20</td>\n",
       "      <td>NaN</td>\n",
       "      <td>NaN</td>\n",
       "    </tr>\n",
       "    <tr>\n",
       "      <th>1</th>\n",
       "      <td>2</td>\n",
       "      <td>1</td>\n",
       "      <td>12.0630</td>\n",
       "      <td>NaN</td>\n",
       "      <td>0</td>\n",
       "      <td>0</td>\n",
       "      <td>0</td>\n",
       "      <td>0</td>\n",
       "      <td>3</td>\n",
       "      <td>155.5</td>\n",
       "      <td>69.1</td>\n",
       "      <td>28.5770</td>\n",
       "      <td>0.85</td>\n",
       "      <td>NaN</td>\n",
       "      <td>NaN</td>\n",
       "    </tr>\n",
       "    <tr>\n",
       "      <th>2</th>\n",
       "      <td>3</td>\n",
       "      <td>2</td>\n",
       "      <td>10.3890</td>\n",
       "      <td>NaN</td>\n",
       "      <td>0</td>\n",
       "      <td>0</td>\n",
       "      <td>0</td>\n",
       "      <td>0</td>\n",
       "      <td>1</td>\n",
       "      <td>144.5</td>\n",
       "      <td>43.2</td>\n",
       "      <td>20.6894</td>\n",
       "      <td>0.53</td>\n",
       "      <td>NaN</td>\n",
       "      <td>NaN</td>\n",
       "    </tr>\n",
       "    <tr>\n",
       "      <th>3</th>\n",
       "      <td>4</td>\n",
       "      <td>1</td>\n",
       "      <td>10.8301</td>\n",
       "      <td>0.0</td>\n",
       "      <td>1</td>\n",
       "      <td>1</td>\n",
       "      <td>1</td>\n",
       "      <td>0</td>\n",
       "      <td>4</td>\n",
       "      <td>156.0</td>\n",
       "      <td>79.0</td>\n",
       "      <td>32.4622</td>\n",
       "      <td>2.08</td>\n",
       "      <td>50.0</td>\n",
       "      <td>64.0</td>\n",
       "    </tr>\n",
       "    <tr>\n",
       "      <th>4</th>\n",
       "      <td>5</td>\n",
       "      <td>1</td>\n",
       "      <td>12.1370</td>\n",
       "      <td>NaN</td>\n",
       "      <td>0</td>\n",
       "      <td>1</td>\n",
       "      <td>0</td>\n",
       "      <td>0</td>\n",
       "      <td>2</td>\n",
       "      <td>170.0</td>\n",
       "      <td>73.1</td>\n",
       "      <td>25.2941</td>\n",
       "      <td>2.82</td>\n",
       "      <td>46.0</td>\n",
       "      <td>66.0</td>\n",
       "    </tr>\n",
       "  </tbody>\n",
       "</table>\n",
       "</div>"
      ],
      "text/plain": [
       "   Unnamed: 0  Sex      Age  \\\n",
       "0           1    1  13.5863   \n",
       "1           2    1  12.0630   \n",
       "2           3    2  10.3890   \n",
       "3           4    1  10.8301   \n",
       "4           5    1  12.1370   \n",
       "\n",
       "   Половое.развитие..0...допубертатное..1..отставание..2...норма..3...опережение  \\\n",
       "0                                                NaN                               \n",
       "1                                                NaN                               \n",
       "2                                                NaN                               \n",
       "3                                                0.0                               \n",
       "4                                                NaN                               \n",
       "\n",
       "   liv  eye  sss  kidneys  OL  рост.см.  вес.кг.      ИМТ  \\\n",
       "0    0    0    0        0   2     177.0     87.6  27.9613   \n",
       "1    0    0    0        0   3     155.5     69.1  28.5770   \n",
       "2    0    0    0        0   1     144.5     43.2  20.6894   \n",
       "3    1    1    1        0   4     156.0     79.0  32.4622   \n",
       "4    0    1    0        0   2     170.0     73.1  25.2941   \n",
       "\n",
       "   Z.Score_Height.ageWHO  LZ_KDR  FV_Tejh  \n",
       "0                   2.20     NaN      NaN  \n",
       "1                   0.85     NaN      NaN  \n",
       "2                   0.53     NaN      NaN  \n",
       "3                   2.08    50.0     64.0  \n",
       "4                   2.82    46.0     66.0  "
      ]
     },
     "execution_count": 4,
     "metadata": {},
     "output_type": "execute_result"
    }
   ],
   "source": [
    "df.head()"
   ]
  },
  {
   "cell_type": "markdown",
   "id": "c5a0c0d2",
   "metadata": {},
   "source": [
    "**Построим корреляционную матрицу:**"
   ]
  },
  {
   "cell_type": "code",
   "execution_count": 5,
   "id": "5b9d522d",
   "metadata": {},
   "outputs": [],
   "source": [
    "corr_matrix = df.corr()"
   ]
  },
  {
   "cell_type": "code",
   "execution_count": 6,
   "id": "64573d3c",
   "metadata": {},
   "outputs": [
    {
     "data": {
      "text/html": [
       "<div>\n",
       "<style scoped>\n",
       "    .dataframe tbody tr th:only-of-type {\n",
       "        vertical-align: middle;\n",
       "    }\n",
       "\n",
       "    .dataframe tbody tr th {\n",
       "        vertical-align: top;\n",
       "    }\n",
       "\n",
       "    .dataframe thead th {\n",
       "        text-align: right;\n",
       "    }\n",
       "</style>\n",
       "<table border=\"1\" class=\"dataframe\">\n",
       "  <thead>\n",
       "    <tr style=\"text-align: right;\">\n",
       "      <th></th>\n",
       "      <th>Unnamed: 0</th>\n",
       "      <th>Sex</th>\n",
       "      <th>Age</th>\n",
       "      <th>Половое.развитие..0...допубертатное..1..отставание..2...норма..3...опережение</th>\n",
       "      <th>liv</th>\n",
       "      <th>eye</th>\n",
       "      <th>sss</th>\n",
       "      <th>kidneys</th>\n",
       "      <th>OL</th>\n",
       "      <th>рост.см.</th>\n",
       "      <th>вес.кг.</th>\n",
       "      <th>ИМТ</th>\n",
       "      <th>Z.Score_Height.ageWHO</th>\n",
       "      <th>LZ_KDR</th>\n",
       "      <th>FV_Tejh</th>\n",
       "    </tr>\n",
       "  </thead>\n",
       "  <tbody>\n",
       "    <tr>\n",
       "      <th>Unnamed: 0</th>\n",
       "      <td>1.000000</td>\n",
       "      <td>0.034425</td>\n",
       "      <td>0.003784</td>\n",
       "      <td>-0.142768</td>\n",
       "      <td>0.103585</td>\n",
       "      <td>0.027514</td>\n",
       "      <td>-0.080282</td>\n",
       "      <td>-0.019176</td>\n",
       "      <td>0.099036</td>\n",
       "      <td>-0.049428</td>\n",
       "      <td>0.061704</td>\n",
       "      <td>0.111547</td>\n",
       "      <td>-0.041314</td>\n",
       "      <td>-0.060257</td>\n",
       "      <td>0.087975</td>\n",
       "    </tr>\n",
       "    <tr>\n",
       "      <th>Sex</th>\n",
       "      <td>0.034425</td>\n",
       "      <td>1.000000</td>\n",
       "      <td>-0.112849</td>\n",
       "      <td>0.190668</td>\n",
       "      <td>-0.130160</td>\n",
       "      <td>-0.084043</td>\n",
       "      <td>-0.076839</td>\n",
       "      <td>0.000679</td>\n",
       "      <td>-0.166760</td>\n",
       "      <td>-0.289472</td>\n",
       "      <td>-0.208539</td>\n",
       "      <td>-0.058742</td>\n",
       "      <td>-0.123765</td>\n",
       "      <td>-0.237494</td>\n",
       "      <td>0.042110</td>\n",
       "    </tr>\n",
       "    <tr>\n",
       "      <th>Age</th>\n",
       "      <td>0.003784</td>\n",
       "      <td>-0.112849</td>\n",
       "      <td>1.000000</td>\n",
       "      <td>0.533367</td>\n",
       "      <td>0.073734</td>\n",
       "      <td>0.066276</td>\n",
       "      <td>0.240987</td>\n",
       "      <td>0.025659</td>\n",
       "      <td>-0.300890</td>\n",
       "      <td>0.789528</td>\n",
       "      <td>0.595024</td>\n",
       "      <td>0.245941</td>\n",
       "      <td>-0.225813</td>\n",
       "      <td>0.365573</td>\n",
       "      <td>-0.000410</td>\n",
       "    </tr>\n",
       "    <tr>\n",
       "      <th>Половое.развитие..0...допубертатное..1..отставание..2...норма..3...опережение</th>\n",
       "      <td>-0.142768</td>\n",
       "      <td>0.190668</td>\n",
       "      <td>0.533367</td>\n",
       "      <td>1.000000</td>\n",
       "      <td>-0.098582</td>\n",
       "      <td>-0.133962</td>\n",
       "      <td>0.057401</td>\n",
       "      <td>-0.038927</td>\n",
       "      <td>-0.361037</td>\n",
       "      <td>0.486135</td>\n",
       "      <td>0.179783</td>\n",
       "      <td>-0.074427</td>\n",
       "      <td>-0.067040</td>\n",
       "      <td>0.198478</td>\n",
       "      <td>0.194834</td>\n",
       "    </tr>\n",
       "    <tr>\n",
       "      <th>liv</th>\n",
       "      <td>0.103585</td>\n",
       "      <td>-0.130160</td>\n",
       "      <td>0.073734</td>\n",
       "      <td>-0.098582</td>\n",
       "      <td>1.000000</td>\n",
       "      <td>0.564680</td>\n",
       "      <td>0.478577</td>\n",
       "      <td>0.206013</td>\n",
       "      <td>0.162617</td>\n",
       "      <td>0.056403</td>\n",
       "      <td>0.164244</td>\n",
       "      <td>0.182124</td>\n",
       "      <td>0.014491</td>\n",
       "      <td>0.132243</td>\n",
       "      <td>-0.071290</td>\n",
       "    </tr>\n",
       "    <tr>\n",
       "      <th>eye</th>\n",
       "      <td>0.027514</td>\n",
       "      <td>-0.084043</td>\n",
       "      <td>0.066276</td>\n",
       "      <td>-0.133962</td>\n",
       "      <td>0.564680</td>\n",
       "      <td>1.000000</td>\n",
       "      <td>0.478544</td>\n",
       "      <td>0.029820</td>\n",
       "      <td>0.121604</td>\n",
       "      <td>0.041182</td>\n",
       "      <td>0.125565</td>\n",
       "      <td>0.150417</td>\n",
       "      <td>0.021748</td>\n",
       "      <td>0.083806</td>\n",
       "      <td>-0.131105</td>\n",
       "    </tr>\n",
       "    <tr>\n",
       "      <th>sss</th>\n",
       "      <td>-0.080282</td>\n",
       "      <td>-0.076839</td>\n",
       "      <td>0.240987</td>\n",
       "      <td>0.057401</td>\n",
       "      <td>0.478577</td>\n",
       "      <td>0.478544</td>\n",
       "      <td>1.000000</td>\n",
       "      <td>0.086366</td>\n",
       "      <td>-0.001554</td>\n",
       "      <td>0.192291</td>\n",
       "      <td>0.179694</td>\n",
       "      <td>0.107535</td>\n",
       "      <td>0.014639</td>\n",
       "      <td>0.179467</td>\n",
       "      <td>-0.107286</td>\n",
       "    </tr>\n",
       "    <tr>\n",
       "      <th>kidneys</th>\n",
       "      <td>-0.019176</td>\n",
       "      <td>0.000679</td>\n",
       "      <td>0.025659</td>\n",
       "      <td>-0.038927</td>\n",
       "      <td>0.206013</td>\n",
       "      <td>0.029820</td>\n",
       "      <td>0.086366</td>\n",
       "      <td>1.000000</td>\n",
       "      <td>-0.077157</td>\n",
       "      <td>-0.031652</td>\n",
       "      <td>-0.022268</td>\n",
       "      <td>-0.019167</td>\n",
       "      <td>-0.093533</td>\n",
       "      <td>0.014234</td>\n",
       "      <td>-0.007402</td>\n",
       "    </tr>\n",
       "    <tr>\n",
       "      <th>OL</th>\n",
       "      <td>0.099036</td>\n",
       "      <td>-0.166760</td>\n",
       "      <td>-0.300890</td>\n",
       "      <td>-0.361037</td>\n",
       "      <td>0.162617</td>\n",
       "      <td>0.121604</td>\n",
       "      <td>-0.001554</td>\n",
       "      <td>-0.077157</td>\n",
       "      <td>1.000000</td>\n",
       "      <td>-0.181846</td>\n",
       "      <td>0.474578</td>\n",
       "      <td>0.787745</td>\n",
       "      <td>0.155595</td>\n",
       "      <td>0.243537</td>\n",
       "      <td>0.048460</td>\n",
       "    </tr>\n",
       "    <tr>\n",
       "      <th>рост.см.</th>\n",
       "      <td>-0.049428</td>\n",
       "      <td>-0.289472</td>\n",
       "      <td>0.789528</td>\n",
       "      <td>0.486135</td>\n",
       "      <td>0.056403</td>\n",
       "      <td>0.041182</td>\n",
       "      <td>0.192291</td>\n",
       "      <td>-0.031652</td>\n",
       "      <td>-0.181846</td>\n",
       "      <td>1.000000</td>\n",
       "      <td>0.700450</td>\n",
       "      <td>0.228837</td>\n",
       "      <td>0.355684</td>\n",
       "      <td>0.530800</td>\n",
       "      <td>0.017995</td>\n",
       "    </tr>\n",
       "    <tr>\n",
       "      <th>вес.кг.</th>\n",
       "      <td>0.061704</td>\n",
       "      <td>-0.208539</td>\n",
       "      <td>0.595024</td>\n",
       "      <td>0.179783</td>\n",
       "      <td>0.164244</td>\n",
       "      <td>0.125565</td>\n",
       "      <td>0.179694</td>\n",
       "      <td>-0.022268</td>\n",
       "      <td>0.474578</td>\n",
       "      <td>0.700450</td>\n",
       "      <td>1.000000</td>\n",
       "      <td>0.845523</td>\n",
       "      <td>0.190932</td>\n",
       "      <td>0.596030</td>\n",
       "      <td>0.104919</td>\n",
       "    </tr>\n",
       "    <tr>\n",
       "      <th>ИМТ</th>\n",
       "      <td>0.111547</td>\n",
       "      <td>-0.058742</td>\n",
       "      <td>0.245941</td>\n",
       "      <td>-0.074427</td>\n",
       "      <td>0.182124</td>\n",
       "      <td>0.150417</td>\n",
       "      <td>0.107535</td>\n",
       "      <td>-0.019167</td>\n",
       "      <td>0.787745</td>\n",
       "      <td>0.228837</td>\n",
       "      <td>0.845523</td>\n",
       "      <td>1.000000</td>\n",
       "      <td>-0.009149</td>\n",
       "      <td>0.406308</td>\n",
       "      <td>0.116415</td>\n",
       "    </tr>\n",
       "    <tr>\n",
       "      <th>Z.Score_Height.ageWHO</th>\n",
       "      <td>-0.041314</td>\n",
       "      <td>-0.123765</td>\n",
       "      <td>-0.225813</td>\n",
       "      <td>-0.067040</td>\n",
       "      <td>0.014491</td>\n",
       "      <td>0.021748</td>\n",
       "      <td>0.014639</td>\n",
       "      <td>-0.093533</td>\n",
       "      <td>0.155595</td>\n",
       "      <td>0.355684</td>\n",
       "      <td>0.190932</td>\n",
       "      <td>-0.009149</td>\n",
       "      <td>1.000000</td>\n",
       "      <td>0.220983</td>\n",
       "      <td>0.002299</td>\n",
       "    </tr>\n",
       "    <tr>\n",
       "      <th>LZ_KDR</th>\n",
       "      <td>-0.060257</td>\n",
       "      <td>-0.237494</td>\n",
       "      <td>0.365573</td>\n",
       "      <td>0.198478</td>\n",
       "      <td>0.132243</td>\n",
       "      <td>0.083806</td>\n",
       "      <td>0.179467</td>\n",
       "      <td>0.014234</td>\n",
       "      <td>0.243537</td>\n",
       "      <td>0.530800</td>\n",
       "      <td>0.596030</td>\n",
       "      <td>0.406308</td>\n",
       "      <td>0.220983</td>\n",
       "      <td>1.000000</td>\n",
       "      <td>0.097197</td>\n",
       "    </tr>\n",
       "    <tr>\n",
       "      <th>FV_Tejh</th>\n",
       "      <td>0.087975</td>\n",
       "      <td>0.042110</td>\n",
       "      <td>-0.000410</td>\n",
       "      <td>0.194834</td>\n",
       "      <td>-0.071290</td>\n",
       "      <td>-0.131105</td>\n",
       "      <td>-0.107286</td>\n",
       "      <td>-0.007402</td>\n",
       "      <td>0.048460</td>\n",
       "      <td>0.017995</td>\n",
       "      <td>0.104919</td>\n",
       "      <td>0.116415</td>\n",
       "      <td>0.002299</td>\n",
       "      <td>0.097197</td>\n",
       "      <td>1.000000</td>\n",
       "    </tr>\n",
       "  </tbody>\n",
       "</table>\n",
       "</div>"
      ],
      "text/plain": [
       "                                                    Unnamed: 0       Sex  \\\n",
       "Unnamed: 0                                            1.000000  0.034425   \n",
       "Sex                                                   0.034425  1.000000   \n",
       "Age                                                   0.003784 -0.112849   \n",
       "Половое.развитие..0...допубертатное..1..отстава...   -0.142768  0.190668   \n",
       "liv                                                   0.103585 -0.130160   \n",
       "eye                                                   0.027514 -0.084043   \n",
       "sss                                                  -0.080282 -0.076839   \n",
       "kidneys                                              -0.019176  0.000679   \n",
       "OL                                                    0.099036 -0.166760   \n",
       "рост.см.                                             -0.049428 -0.289472   \n",
       "вес.кг.                                               0.061704 -0.208539   \n",
       "ИМТ                                                   0.111547 -0.058742   \n",
       "Z.Score_Height.ageWHO                                -0.041314 -0.123765   \n",
       "LZ_KDR                                               -0.060257 -0.237494   \n",
       "FV_Tejh                                               0.087975  0.042110   \n",
       "\n",
       "                                                         Age  \\\n",
       "Unnamed: 0                                          0.003784   \n",
       "Sex                                                -0.112849   \n",
       "Age                                                 1.000000   \n",
       "Половое.развитие..0...допубертатное..1..отстава...  0.533367   \n",
       "liv                                                 0.073734   \n",
       "eye                                                 0.066276   \n",
       "sss                                                 0.240987   \n",
       "kidneys                                             0.025659   \n",
       "OL                                                 -0.300890   \n",
       "рост.см.                                            0.789528   \n",
       "вес.кг.                                             0.595024   \n",
       "ИМТ                                                 0.245941   \n",
       "Z.Score_Height.ageWHO                              -0.225813   \n",
       "LZ_KDR                                              0.365573   \n",
       "FV_Tejh                                            -0.000410   \n",
       "\n",
       "                                                    Половое.развитие..0...допубертатное..1..отставание..2...норма..3...опережение  \\\n",
       "Unnamed: 0                                                                                  -0.142768                               \n",
       "Sex                                                                                          0.190668                               \n",
       "Age                                                                                          0.533367                               \n",
       "Половое.развитие..0...допубертатное..1..отстава...                                           1.000000                               \n",
       "liv                                                                                         -0.098582                               \n",
       "eye                                                                                         -0.133962                               \n",
       "sss                                                                                          0.057401                               \n",
       "kidneys                                                                                     -0.038927                               \n",
       "OL                                                                                          -0.361037                               \n",
       "рост.см.                                                                                     0.486135                               \n",
       "вес.кг.                                                                                      0.179783                               \n",
       "ИМТ                                                                                         -0.074427                               \n",
       "Z.Score_Height.ageWHO                                                                       -0.067040                               \n",
       "LZ_KDR                                                                                       0.198478                               \n",
       "FV_Tejh                                                                                      0.194834                               \n",
       "\n",
       "                                                         liv       eye  \\\n",
       "Unnamed: 0                                          0.103585  0.027514   \n",
       "Sex                                                -0.130160 -0.084043   \n",
       "Age                                                 0.073734  0.066276   \n",
       "Половое.развитие..0...допубертатное..1..отстава... -0.098582 -0.133962   \n",
       "liv                                                 1.000000  0.564680   \n",
       "eye                                                 0.564680  1.000000   \n",
       "sss                                                 0.478577  0.478544   \n",
       "kidneys                                             0.206013  0.029820   \n",
       "OL                                                  0.162617  0.121604   \n",
       "рост.см.                                            0.056403  0.041182   \n",
       "вес.кг.                                             0.164244  0.125565   \n",
       "ИМТ                                                 0.182124  0.150417   \n",
       "Z.Score_Height.ageWHO                               0.014491  0.021748   \n",
       "LZ_KDR                                              0.132243  0.083806   \n",
       "FV_Tejh                                            -0.071290 -0.131105   \n",
       "\n",
       "                                                         sss   kidneys  \\\n",
       "Unnamed: 0                                         -0.080282 -0.019176   \n",
       "Sex                                                -0.076839  0.000679   \n",
       "Age                                                 0.240987  0.025659   \n",
       "Половое.развитие..0...допубертатное..1..отстава...  0.057401 -0.038927   \n",
       "liv                                                 0.478577  0.206013   \n",
       "eye                                                 0.478544  0.029820   \n",
       "sss                                                 1.000000  0.086366   \n",
       "kidneys                                             0.086366  1.000000   \n",
       "OL                                                 -0.001554 -0.077157   \n",
       "рост.см.                                            0.192291 -0.031652   \n",
       "вес.кг.                                             0.179694 -0.022268   \n",
       "ИМТ                                                 0.107535 -0.019167   \n",
       "Z.Score_Height.ageWHO                               0.014639 -0.093533   \n",
       "LZ_KDR                                              0.179467  0.014234   \n",
       "FV_Tejh                                            -0.107286 -0.007402   \n",
       "\n",
       "                                                          OL  рост.см.  \\\n",
       "Unnamed: 0                                          0.099036 -0.049428   \n",
       "Sex                                                -0.166760 -0.289472   \n",
       "Age                                                -0.300890  0.789528   \n",
       "Половое.развитие..0...допубертатное..1..отстава... -0.361037  0.486135   \n",
       "liv                                                 0.162617  0.056403   \n",
       "eye                                                 0.121604  0.041182   \n",
       "sss                                                -0.001554  0.192291   \n",
       "kidneys                                            -0.077157 -0.031652   \n",
       "OL                                                  1.000000 -0.181846   \n",
       "рост.см.                                           -0.181846  1.000000   \n",
       "вес.кг.                                             0.474578  0.700450   \n",
       "ИМТ                                                 0.787745  0.228837   \n",
       "Z.Score_Height.ageWHO                               0.155595  0.355684   \n",
       "LZ_KDR                                              0.243537  0.530800   \n",
       "FV_Tejh                                             0.048460  0.017995   \n",
       "\n",
       "                                                     вес.кг.       ИМТ  \\\n",
       "Unnamed: 0                                          0.061704  0.111547   \n",
       "Sex                                                -0.208539 -0.058742   \n",
       "Age                                                 0.595024  0.245941   \n",
       "Половое.развитие..0...допубертатное..1..отстава...  0.179783 -0.074427   \n",
       "liv                                                 0.164244  0.182124   \n",
       "eye                                                 0.125565  0.150417   \n",
       "sss                                                 0.179694  0.107535   \n",
       "kidneys                                            -0.022268 -0.019167   \n",
       "OL                                                  0.474578  0.787745   \n",
       "рост.см.                                            0.700450  0.228837   \n",
       "вес.кг.                                             1.000000  0.845523   \n",
       "ИМТ                                                 0.845523  1.000000   \n",
       "Z.Score_Height.ageWHO                               0.190932 -0.009149   \n",
       "LZ_KDR                                              0.596030  0.406308   \n",
       "FV_Tejh                                             0.104919  0.116415   \n",
       "\n",
       "                                                    Z.Score_Height.ageWHO  \\\n",
       "Unnamed: 0                                                      -0.041314   \n",
       "Sex                                                             -0.123765   \n",
       "Age                                                             -0.225813   \n",
       "Половое.развитие..0...допубертатное..1..отстава...              -0.067040   \n",
       "liv                                                              0.014491   \n",
       "eye                                                              0.021748   \n",
       "sss                                                              0.014639   \n",
       "kidneys                                                         -0.093533   \n",
       "OL                                                               0.155595   \n",
       "рост.см.                                                         0.355684   \n",
       "вес.кг.                                                          0.190932   \n",
       "ИМТ                                                             -0.009149   \n",
       "Z.Score_Height.ageWHO                                            1.000000   \n",
       "LZ_KDR                                                           0.220983   \n",
       "FV_Tejh                                                          0.002299   \n",
       "\n",
       "                                                      LZ_KDR   FV_Tejh  \n",
       "Unnamed: 0                                         -0.060257  0.087975  \n",
       "Sex                                                -0.237494  0.042110  \n",
       "Age                                                 0.365573 -0.000410  \n",
       "Половое.развитие..0...допубертатное..1..отстава...  0.198478  0.194834  \n",
       "liv                                                 0.132243 -0.071290  \n",
       "eye                                                 0.083806 -0.131105  \n",
       "sss                                                 0.179467 -0.107286  \n",
       "kidneys                                             0.014234 -0.007402  \n",
       "OL                                                  0.243537  0.048460  \n",
       "рост.см.                                            0.530800  0.017995  \n",
       "вес.кг.                                             0.596030  0.104919  \n",
       "ИМТ                                                 0.406308  0.116415  \n",
       "Z.Score_Height.ageWHO                               0.220983  0.002299  \n",
       "LZ_KDR                                              1.000000  0.097197  \n",
       "FV_Tejh                                             0.097197  1.000000  "
      ]
     },
     "execution_count": 6,
     "metadata": {},
     "output_type": "execute_result"
    }
   ],
   "source": [
    "corr_matrix"
   ]
  },
  {
   "cell_type": "code",
   "execution_count": 7,
   "id": "553db3d1",
   "metadata": {},
   "outputs": [
    {
     "name": "stdout",
     "output_type": "stream",
     "text": [
      "Unnamed: 0                                                                     Unnamed: 0               1.000000\n",
      "ИМТ                                                                            вес.кг.                  0.845523\n",
      "рост.см.                                                                       Age                      0.789528\n",
      "OL                                                                             ИМТ                      0.787745\n",
      "вес.кг.                                                                        рост.см.                 0.700450\n",
      "                                                                                                          ...   \n",
      "Age                                                                            Z.Score_Height.ageWHO   -0.225813\n",
      "LZ_KDR                                                                         Sex                     -0.237494\n",
      "Sex                                                                            рост.см.                -0.289472\n",
      "OL                                                                             Age                     -0.300890\n",
      "Половое.развитие..0...допубертатное..1..отставание..2...норма..3...опережение  OL                      -0.361037\n",
      "Length: 106, dtype: float64\n"
     ]
    }
   ],
   "source": [
    "max_corr = corr_matrix.unstack().sort_values(ascending=False).drop_duplicates()\n",
    "print(max_corr)"
   ]
  },
  {
   "cell_type": "markdown",
   "id": "0818dddf",
   "metadata": {},
   "source": [
    "Наиболее значимая корреляция ИМТ - вес"
   ]
  },
  {
   "cell_type": "markdown",
   "id": "05948d14",
   "metadata": {},
   "source": [
    "**Построим двумерную диаграмму:**"
   ]
  },
  {
   "cell_type": "code",
   "execution_count": 8,
   "id": "ff027120",
   "metadata": {},
   "outputs": [
    {
     "data": {
      "image/png": "[encoded data removed]",
      "text/plain": [
       "<Figure size 640x480 with 1 Axes>"
      ]
     },
     "metadata": {},
     "output_type": "display_data"
    }
   ],
   "source": [
    "plt.scatter(df[\"ИМТ\"], df[\"вес.кг.\"])\n",
    "plt.xlabel(\"ИМТ\")\n",
    "plt.ylabel(\"Вес кг.\")\n",
    "plt.show()"
   ]
  },
  {
   "cell_type": "markdown",
   "id": "b4abf8a4",
   "metadata": {},
   "source": [
    "Видим сильную линейную зависимость"
   ]
  },
  {
   "cell_type": "markdown",
   "id": "943cd866",
   "metadata": {},
   "source": [
    "**Множественная регрессия**"
   ]
  },
  {
   "cell_type": "markdown",
   "id": "9bedd2ac",
   "metadata": {},
   "source": [
    "Разделим зависимую и независимые переменные"
   ]
  },
  {
   "cell_type": "code",
   "execution_count": 9,
   "id": "d541c33b",
   "metadata": {},
   "outputs": [
    {
     "name": "stdout",
     "output_type": "stream",
     "text": [
      "<class 'pandas.core.frame.DataFrame'>\n",
      "RangeIndex: 253 entries, 0 to 252\n",
      "Data columns (total 15 columns):\n",
      " #   Column                                                                         Non-Null Count  Dtype  \n",
      "---  ------                                                                         --------------  -----  \n",
      " 0   Unnamed: 0                                                                     253 non-null    int64  \n",
      " 1   Sex                                                                            253 non-null    int64  \n",
      " 2   Age                                                                            253 non-null    float64\n",
      " 3   Половое.развитие..0...допубертатное..1..отставание..2...норма..3...опережение  97 non-null     float64\n",
      " 4   liv                                                                            253 non-null    int64  \n",
      " 5   eye                                                                            253 non-null    int64  \n",
      " 6   sss                                                                            253 non-null    int64  \n",
      " 7   kidneys                                                                        253 non-null    int64  \n",
      " 8   OL                                                                             253 non-null    int64  \n",
      " 9   рост.см.                                                                       253 non-null    float64\n",
      " 10  вес.кг.                                                                        253 non-null    float64\n",
      " 11  ИМТ                                                                            253 non-null    float64\n",
      " 12  Z.Score_Height.ageWHO                                                          253 non-null    float64\n",
      " 13  LZ_KDR                                                                         131 non-null    float64\n",
      " 14  FV_Tejh                                                                        130 non-null    float64\n",
      "dtypes: float64(8), int64(7)\n",
      "memory usage: 29.8 KB\n"
     ]
    }
   ],
   "source": [
    "df.info()"
   ]
  },
  {
   "cell_type": "code",
   "execution_count": 14,
   "id": "7b6f2439",
   "metadata": {},
   "outputs": [],
   "source": [
    "df.drop([\"Половое.развитие..0...допубертатное..1..отставание..2...норма..3...опережение\"], axis=1, inplace=True)"
   ]
  },
  {
   "cell_type": "code",
   "execution_count": 15,
   "id": "6c6393fc",
   "metadata": {},
   "outputs": [],
   "source": [
    "dfn = df.dropna()"
   ]
  },
  {
   "cell_type": "code",
   "execution_count": 17,
   "id": "a485fcc5",
   "metadata": {},
   "outputs": [],
   "source": [
    "Y = dfn[\"Z.Score_Height.ageWHO\"]\n",
    "X = dfn[[\"Age\", \"рост.см.\", \"вес.кг.\", \"ИМТ\", \"LZ_KDR\", \"FV_Tejh\"]]"
   ]
  },
  {
   "cell_type": "code",
   "execution_count": 18,
   "id": "884c66cc",
   "metadata": {},
   "outputs": [],
   "source": [
    "X = sm.add_constant(X)"
   ]
  },
  {
   "cell_type": "code",
   "execution_count": 19,
   "id": "482f63da",
   "metadata": {},
   "outputs": [],
   "source": [
    "model = sm.OLS(Y, X).fit()"
   ]
  },
  {
   "cell_type": "code",
   "execution_count": 20,
   "id": "e6188a0c",
   "metadata": {},
   "outputs": [
    {
     "name": "stdout",
     "output_type": "stream",
     "text": [
      "                              OLS Regression Results                             \n",
      "=================================================================================\n",
      "Dep. Variable:     Z.Score_Height.ageWHO   R-squared:                       0.783\n",
      "Model:                               OLS   Adj. R-squared:                  0.772\n",
      "Method:                    Least Squares   F-statistic:                     73.84\n",
      "Date:                   Sun, 24 Sep 2023   Prob (F-statistic):           2.08e-38\n",
      "Time:                           17:07:40   Log-Likelihood:                -88.386\n",
      "No. Observations:                    130   AIC:                             190.8\n",
      "Df Residuals:                        123   BIC:                             210.8\n",
      "Df Model:                              6                                         \n",
      "Covariance Type:               nonrobust                                         \n",
      "==============================================================================\n",
      "                 coef    std err          t      P>|t|      [0.025      0.975]\n",
      "------------------------------------------------------------------------------\n",
      "const        -10.9203      3.139     -3.479      0.001     -17.134      -4.707\n",
      "Age           -0.5407      0.028    -19.086      0.000      -0.597      -0.485\n",
      "рост.см.       0.1170      0.019      6.299      0.000       0.080       0.154\n",
      "вес.кг.       -0.0116      0.021     -0.564      0.574      -0.052       0.029\n",
      "ИМТ            0.0405      0.059      0.686      0.494      -0.076       0.158\n",
      "LZ_KDR         0.0017      0.013      0.131      0.896      -0.024       0.028\n",
      "FV_Tejh       -0.0053      0.009     -0.580      0.563      -0.023       0.013\n",
      "==============================================================================\n",
      "Omnibus:                        8.783   Durbin-Watson:                   1.874\n",
      "Prob(Omnibus):                  0.012   Jarque-Bera (JB):                8.828\n",
      "Skew:                           0.631   Prob(JB):                       0.0121\n",
      "Kurtosis:                       3.192   Cond. No.                     1.46e+04\n",
      "==============================================================================\n",
      "\n",
      "Notes:\n",
      "[1] Standard Errors assume that the covariance matrix of the errors is correctly specified.\n",
      "[2] The condition number is large, 1.46e+04. This might indicate that there are\n",
      "strong multicollinearity or other numerical problems.\n"
     ]
    }
   ],
   "source": [
    "print(model.summary())"
   ]
  },
  {
   "cell_type": "markdown",
   "id": "0c465408",
   "metadata": {},
   "source": [
    "Переменные возраст и рост являются статистически значимыми. Остальные независимые переменные не оказывают значимого влияния на зависимую переменную. Модель объясняет более 78% дисперсии зависимой переменной."
   ]
  },
  {
   "cell_type": "markdown",
   "id": "0ac232fc",
   "metadata": {},
   "source": [
    "## Факторный анализ"
   ]
  },
  {
   "cell_type": "code",
   "execution_count": 51,
   "id": "2d7e27c6",
   "metadata": {},
   "outputs": [
    {
     "data": {
      "text/html": [
       "<style>#sk-container-id-4 {color: black;background-color: white;}#sk-container-id-4 pre{padding: 0;}#sk-container-id-4 div.sk-toggleable {background-color: white;}#sk-container-id-4 label.sk-toggleable__label {cursor: pointer;display: block;width: 100%;margin-bottom: 0;padding: 0.3em;box-sizing: border-box;text-align: center;}#sk-container-id-4 label.sk-toggleable__label-arrow:before {content: \"▸\";float: left;margin-right: 0.25em;color: #696969;}#sk-container-id-4 label.sk-toggleable__label-arrow:hover:before {color: black;}#sk-container-id-4 div.sk-estimator:hover label.sk-toggleable__label-arrow:before {color: black;}#sk-container-id-4 div.sk-toggleable__content {max-height: 0;max-width: 0;overflow: hidden;text-align: left;background-color: #f0f8ff;}#sk-container-id-4 div.sk-toggleable__content pre {margin: 0.2em;color: black;border-radius: 0.25em;background-color: #f0f8ff;}#sk-container-id-4 input.sk-toggleable__control:checked~div.sk-toggleable__content {max-height: 200px;max-width: 100%;overflow: auto;}#sk-container-id-4 input.sk-toggleable__control:checked~label.sk-toggleable__label-arrow:before {content: \"▾\";}#sk-container-id-4 div.sk-estimator input.sk-toggleable__control:checked~label.sk-toggleable__label {background-color: #d4ebff;}#sk-container-id-4 div.sk-label input.sk-toggleable__control:checked~label.sk-toggleable__label {background-color: #d4ebff;}#sk-container-id-4 input.sk-hidden--visually {border: 0;clip: rect(1px 1px 1px 1px);clip: rect(1px, 1px, 1px, 1px);height: 1px;margin: -1px;overflow: hidden;padding: 0;position: absolute;width: 1px;}#sk-container-id-4 div.sk-estimator {font-family: monospace;background-color: #f0f8ff;border: 1px dotted black;border-radius: 0.25em;box-sizing: border-box;margin-bottom: 0.5em;}#sk-container-id-4 div.sk-estimator:hover {background-color: #d4ebff;}#sk-container-id-4 div.sk-parallel-item::after {content: \"\";width: 100%;border-bottom: 1px solid gray;flex-grow: 1;}#sk-container-id-4 div.sk-label:hover label.sk-toggleable__label {background-color: #d4ebff;}#sk-container-id-4 div.sk-serial::before {content: \"\";position: absolute;border-left: 1px solid gray;box-sizing: border-box;top: 0;bottom: 0;left: 50%;z-index: 0;}#sk-container-id-4 div.sk-serial {display: flex;flex-direction: column;align-items: center;background-color: white;padding-right: 0.2em;padding-left: 0.2em;position: relative;}#sk-container-id-4 div.sk-item {position: relative;z-index: 1;}#sk-container-id-4 div.sk-parallel {display: flex;align-items: stretch;justify-content: center;background-color: white;position: relative;}#sk-container-id-4 div.sk-item::before, #sk-container-id-4 div.sk-parallel-item::before {content: \"\";position: absolute;border-left: 1px solid gray;box-sizing: border-box;top: 0;bottom: 0;left: 50%;z-index: -1;}#sk-container-id-4 div.sk-parallel-item {display: flex;flex-direction: column;z-index: 1;position: relative;background-color: white;}#sk-container-id-4 div.sk-parallel-item:first-child::after {align-self: flex-end;width: 50%;}#sk-container-id-4 div.sk-parallel-item:last-child::after {align-self: flex-start;width: 50%;}#sk-container-id-4 div.sk-parallel-item:only-child::after {width: 0;}#sk-container-id-4 div.sk-dashed-wrapped {border: 1px dashed gray;margin: 0 0.4em 0.5em 0.4em;box-sizing: border-box;padding-bottom: 0.4em;background-color: white;}#sk-container-id-4 div.sk-label label {font-family: monospace;font-weight: bold;display: inline-block;line-height: 1.2em;}#sk-container-id-4 div.sk-label-container {text-align: center;}#sk-container-id-4 div.sk-container {/* jupyter's `normalize.less` sets `[hidden] { display: none; }` but bootstrap.min.css set `[hidden] { display: none !important; }` so we also need the `!important` here to be able to override the default hidden behavior on the sphinx rendered scikit-learn.org. See: https://github.com/scikit-learn/scikit-learn/issues/21755 */display: inline-block !important;position: relative;}#sk-container-id-4 div.sk-text-repr-fallback {display: none;}</style><div id=\"sk-container-id-4\" class=\"sk-top-container\"><div class=\"sk-text-repr-fallback\"><pre>FactorAnalysis(n_components=2)</pre><b>In a Jupyter environment, please rerun this cell to show the HTML representation or trust the notebook. <br />On GitHub, the HTML representation is unable to render, please try loading this page with nbviewer.org.</b></div><div class=\"sk-container\" hidden><div class=\"sk-item\"><div class=\"sk-estimator sk-toggleable\"><input class=\"sk-toggleable__control sk-hidden--visually\" id=\"sk-estimator-id-4\" type=\"checkbox\" checked><label for=\"sk-estimator-id-4\" class=\"sk-toggleable__label sk-toggleable__label-arrow\">FactorAnalysis</label><div class=\"sk-toggleable__content\"><pre>FactorAnalysis(n_components=2)</pre></div></div></div></div></div>"
      ],
      "text/plain": [
       "FactorAnalysis(n_components=2)"
      ]
     },
     "execution_count": 51,
     "metadata": {},
     "output_type": "execute_result"
    }
   ],
   "source": [
    "X = dfn[[\"Age\", \"рост.см.\", \"вес.кг.\", \"ИМТ\", \"LZ_KDR\", \"FV_Tejh\"]]\n",
    "fa = FactorAnalysis(n_components=2)\n",
    "fa.fit(X)"
   ]
  },
  {
   "cell_type": "code",
   "execution_count": 88,
   "id": "ef5fd7f5",
   "metadata": {},
   "outputs": [],
   "source": [
    "loading_1 = []\n",
    "loading_2 = []"
   ]
  },
  {
   "cell_type": "code",
   "execution_count": 57,
   "id": "fcfd88e8",
   "metadata": {},
   "outputs": [],
   "source": [
    "factors = fa.transform(X)"
   ]
  },
  {
   "cell_type": "code",
   "execution_count": 89,
   "id": "25bb2c1e",
   "metadata": {},
   "outputs": [],
   "source": [
    "for name in X.columns:\n",
    "    loading_1.append(np.corrcoef(factors[:,0], X[name])[0,1])\n",
    "    loading_2.append(np.corrcoef(factors[:,1], X[name])[0,1])"
   ]
  },
  {
   "cell_type": "code",
   "execution_count": 91,
   "id": "0aa8ef9d",
   "metadata": {},
   "outputs": [],
   "source": [
    "loading_1 = np.array(loading_1)\n",
    "loading_2 = np.array(loading_2)"
   ]
  },
  {
   "cell_type": "markdown",
   "id": "04fdfa6b",
   "metadata": {},
   "source": [
    "Матрица факторных нагрузок"
   ]
  },
  {
   "cell_type": "code",
   "execution_count": 97,
   "id": "05d10fb4",
   "metadata": {
    "scrolled": true
   },
   "outputs": [
    {
     "name": "stdout",
     "output_type": "stream",
     "text": [
      "[ 0.43561276  0.60772816  0.99878867  0.85563597  0.60566046  0.10282133\n",
      "  0.5648033   0.79334807 -0.04441721 -0.51119171  0.21073221 -0.05644073]\n"
     ]
    }
   ],
   "source": [
    "loadings = np.concatenate((loading_1, loading_2), axis=0)\n",
    "print(loadings)"
   ]
  },
  {
   "cell_type": "markdown",
   "id": "0f7584f0",
   "metadata": {},
   "source": [
    "- Первый фактор: переменная вес и ИМТ имеют высокие факторные нагрузки\n",
    "- Второй фактор: самую высокую факторную нагрузку имеет переменная рост"
   ]
  },
  {
   "cell_type": "code",
   "execution_count": 56,
   "id": "d97049f7",
   "metadata": {},
   "outputs": [
    {
     "data": {
      "image/png": "[encoded data removed]",
      "text/plain": [
       "<Figure size 640x480 with 1 Axes>"
      ]
     },
     "metadata": {},
     "output_type": "display_data"
    }
   ],
   "source": [
    "plt.scatter(factors[:, 0], factors[:, 1])\n",
    "plt.xlabel('Фактор 1')\n",
    "plt.ylabel('Фактор 2')\n",
    "plt.show()"
   ]
  },
  {
   "cell_type": "markdown",
   "id": "b693b750",
   "metadata": {},
   "source": [
    "График показывает отсутствие взаимодействия между факторами"
   ]
  },
  {
   "cell_type": "markdown",
   "id": "39034a99",
   "metadata": {},
   "source": [
    "## Дискриминантный анализ"
   ]
  },
  {
   "cell_type": "code",
   "execution_count": 34,
   "id": "37a481f9",
   "metadata": {},
   "outputs": [],
   "source": [
    "from sklearn.discriminant_analysis import LinearDiscriminantAnalysis\n",
    "from sklearn.model_selection import train_test_split\n",
    "from sklearn.metrics import accuracy_score, confusion_matrix"
   ]
  },
  {
   "cell_type": "code",
   "execution_count": 42,
   "id": "60937d97",
   "metadata": {},
   "outputs": [],
   "source": [
    "y = dfn[\"Sex\"]\n",
    "X = dfn.drop(\"Sex\", axis=1)"
   ]
  },
  {
   "cell_type": "code",
   "execution_count": 32,
   "id": "44880a05",
   "metadata": {},
   "outputs": [],
   "source": [
    "X.drop(X.columns[[0]], axis=1, inplace=True)"
   ]
  },
  {
   "cell_type": "markdown",
   "id": "d8bf342e",
   "metadata": {},
   "source": [
    "Разделим выборку на обучающую и тестовую"
   ]
  },
  {
   "cell_type": "code",
   "execution_count": 43,
   "id": "c7e41be1",
   "metadata": {},
   "outputs": [],
   "source": [
    "X_train, X_test, y_train, y_test = train_test_split(X, y, test_size=0.2)"
   ]
  },
  {
   "cell_type": "code",
   "execution_count": 44,
   "id": "19fb0bcc",
   "metadata": {},
   "outputs": [
    {
     "data": {
      "text/html": [
       "<style>#sk-container-id-3 {color: black;background-color: white;}#sk-container-id-3 pre{padding: 0;}#sk-container-id-3 div.sk-toggleable {background-color: white;}#sk-container-id-3 label.sk-toggleable__label {cursor: pointer;display: block;width: 100%;margin-bottom: 0;padding: 0.3em;box-sizing: border-box;text-align: center;}#sk-container-id-3 label.sk-toggleable__label-arrow:before {content: \"▸\";float: left;margin-right: 0.25em;color: #696969;}#sk-container-id-3 label.sk-toggleable__label-arrow:hover:before {color: black;}#sk-container-id-3 div.sk-estimator:hover label.sk-toggleable__label-arrow:before {color: black;}#sk-container-id-3 div.sk-toggleable__content {max-height: 0;max-width: 0;overflow: hidden;text-align: left;background-color: #f0f8ff;}#sk-container-id-3 div.sk-toggleable__content pre {margin: 0.2em;color: black;border-radius: 0.25em;background-color: #f0f8ff;}#sk-container-id-3 input.sk-toggleable__control:checked~div.sk-toggleable__content {max-height: 200px;max-width: 100%;overflow: auto;}#sk-container-id-3 input.sk-toggleable__control:checked~label.sk-toggleable__label-arrow:before {content: \"▾\";}#sk-container-id-3 div.sk-estimator input.sk-toggleable__control:checked~label.sk-toggleable__label {background-color: #d4ebff;}#sk-container-id-3 div.sk-label input.sk-toggleable__control:checked~label.sk-toggleable__label {background-color: #d4ebff;}#sk-container-id-3 input.sk-hidden--visually {border: 0;clip: rect(1px 1px 1px 1px);clip: rect(1px, 1px, 1px, 1px);height: 1px;margin: -1px;overflow: hidden;padding: 0;position: absolute;width: 1px;}#sk-container-id-3 div.sk-estimator {font-family: monospace;background-color: #f0f8ff;border: 1px dotted black;border-radius: 0.25em;box-sizing: border-box;margin-bottom: 0.5em;}#sk-container-id-3 div.sk-estimator:hover {background-color: #d4ebff;}#sk-container-id-3 div.sk-parallel-item::after {content: \"\";width: 100%;border-bottom: 1px solid gray;flex-grow: 1;}#sk-container-id-3 div.sk-label:hover label.sk-toggleable__label {background-color: #d4ebff;}#sk-container-id-3 div.sk-serial::before {content: \"\";position: absolute;border-left: 1px solid gray;box-sizing: border-box;top: 0;bottom: 0;left: 50%;z-index: 0;}#sk-container-id-3 div.sk-serial {display: flex;flex-direction: column;align-items: center;background-color: white;padding-right: 0.2em;padding-left: 0.2em;position: relative;}#sk-container-id-3 div.sk-item {position: relative;z-index: 1;}#sk-container-id-3 div.sk-parallel {display: flex;align-items: stretch;justify-content: center;background-color: white;position: relative;}#sk-container-id-3 div.sk-item::before, #sk-container-id-3 div.sk-parallel-item::before {content: \"\";position: absolute;border-left: 1px solid gray;box-sizing: border-box;top: 0;bottom: 0;left: 50%;z-index: -1;}#sk-container-id-3 div.sk-parallel-item {display: flex;flex-direction: column;z-index: 1;position: relative;background-color: white;}#sk-container-id-3 div.sk-parallel-item:first-child::after {align-self: flex-end;width: 50%;}#sk-container-id-3 div.sk-parallel-item:last-child::after {align-self: flex-start;width: 50%;}#sk-container-id-3 div.sk-parallel-item:only-child::after {width: 0;}#sk-container-id-3 div.sk-dashed-wrapped {border: 1px dashed gray;margin: 0 0.4em 0.5em 0.4em;box-sizing: border-box;padding-bottom: 0.4em;background-color: white;}#sk-container-id-3 div.sk-label label {font-family: monospace;font-weight: bold;display: inline-block;line-height: 1.2em;}#sk-container-id-3 div.sk-label-container {text-align: center;}#sk-container-id-3 div.sk-container {/* jupyter's `normalize.less` sets `[hidden] { display: none; }` but bootstrap.min.css set `[hidden] { display: none !important; }` so we also need the `!important` here to be able to override the default hidden behavior on the sphinx rendered scikit-learn.org. See: https://github.com/scikit-learn/scikit-learn/issues/21755 */display: inline-block !important;position: relative;}#sk-container-id-3 div.sk-text-repr-fallback {display: none;}</style><div id=\"sk-container-id-3\" class=\"sk-top-container\"><div class=\"sk-text-repr-fallback\"><pre>LinearDiscriminantAnalysis()</pre><b>In a Jupyter environment, please rerun this cell to show the HTML representation or trust the notebook. <br />On GitHub, the HTML representation is unable to render, please try loading this page with nbviewer.org.</b></div><div class=\"sk-container\" hidden><div class=\"sk-item\"><div class=\"sk-estimator sk-toggleable\"><input class=\"sk-toggleable__control sk-hidden--visually\" id=\"sk-estimator-id-3\" type=\"checkbox\" checked><label for=\"sk-estimator-id-3\" class=\"sk-toggleable__label sk-toggleable__label-arrow\">LinearDiscriminantAnalysis</label><div class=\"sk-toggleable__content\"><pre>LinearDiscriminantAnalysis()</pre></div></div></div></div></div>"
      ],
      "text/plain": [
       "LinearDiscriminantAnalysis()"
      ]
     },
     "execution_count": 44,
     "metadata": {},
     "output_type": "execute_result"
    }
   ],
   "source": [
    "lda = LinearDiscriminantAnalysis()\n",
    "lda.fit(X_train, y_train)"
   ]
  },
  {
   "cell_type": "code",
   "execution_count": 45,
   "id": "91e83971",
   "metadata": {},
   "outputs": [
    {
     "name": "stdout",
     "output_type": "stream",
     "text": [
      "Accuracy: 0.8461538461538461\n"
     ]
    }
   ],
   "source": [
    "y_pred = lda.predict(X_test)\n",
    "print(\"Accuracy:\", accuracy_score(y_test, y_pred))"
   ]
  },
  {
   "cell_type": "markdown",
   "id": "72489e89",
   "metadata": {},
   "source": [
    "Матрица классификаций"
   ]
  },
  {
   "cell_type": "code",
   "execution_count": 47,
   "id": "8e32dbc5",
   "metadata": {},
   "outputs": [
    {
     "data": {
      "text/plain": [
       "array([[16,  2],\n",
       "       [ 2,  6]])"
      ]
     },
     "execution_count": 47,
     "metadata": {},
     "output_type": "execute_result"
    }
   ],
   "source": [
    "confusion_matrix(y_test, y_pred)"
   ]
  },
  {
   "cell_type": "markdown",
   "id": "09200913",
   "metadata": {},
   "source": [
    "В 84.5% случаев модель правильно классифицирует тестовые данные"
   ]
  },
  {
   "cell_type": "code",
   "execution_count": 49,
   "id": "7b7301c1",
   "metadata": {},
   "outputs": [],
   "source": [
    "discriminant_values = lda.transform(X)"
   ]
  },
  {
   "cell_type": "code",
   "execution_count": 50,
   "id": "16b8129e",
   "metadata": {},
   "outputs": [
    {
     "data": {
      "image/png": "[encoded data removed]",
      "text/plain": [
       "<Figure size 640x480 with 1 Axes>"
      ]
     },
     "metadata": {},
     "output_type": "display_data"
    }
   ],
   "source": [
    "plt.scatter(discriminant_values, y)\n",
    "plt.xlabel('Дискриминантная функция')\n",
    "plt.ylabel('Переменная y')\n",
    "plt.show()"
   ]
  },
  {
   "cell_type": "code",
   "execution_count": null,
   "id": "e77d9691",
   "metadata": {},
   "outputs": [],
   "source": []
  }
 ],
 "metadata": {
  "kernelspec": {
   "display_name": "Python 3 (ipykernel)",
   "language": "python",
   "name": "python3"
  },
  "language_info": {
   "codemirror_mode": {
    "name": "ipython",
    "version": 3
   },
   "file_extension": ".py",
   "mimetype": "text/x-python",
   "name": "python",
   "nbconvert_exporter": "python",
   "pygments_lexer": "ipython3",
   "version": "3.10.12"
  }
 },
 "nbformat": 4,
 "nbformat_minor": 5
}
