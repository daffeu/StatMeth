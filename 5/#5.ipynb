{
 "cells": [
  {
   "cell_type": "markdown",
   "id": "748b9f09",
   "metadata": {},
   "source": [
    "# Практическое задание №5"
   ]
  },
  {
   "cell_type": "markdown",
   "id": "84567f33",
   "metadata": {},
   "source": [
    "- Вариант для проверки однородности двух независимых выборок: зависимая переменная - SBP.1, группириующая переменная - irritability.1\n",
    "- Вариант для проверки однородности трех независимых выборок: зависимая переменная - HR.1,  перва группириующая переменная - craving.to.alcohol.1, вторая группирующая переменная - произвольная категориальная переменная "
   ]
  },
  {
   "cell_type": "markdown",
   "id": "103e61d3",
   "metadata": {},
   "source": [
    "- Задача однородности в случае двух выборок (табл. Варианты для проверки однородности двух независимых выборок). При наличии трех градаций нужно объединить ячейки, чтобы получить две наиболее представленные градации. Проверить на предмет однородности независимых выборок метрическую переменную (столбцы таблицы) в зависимости от категориальной переменной (строки таблицы) по критерию 1) Вилкоксона, 2) Фишера равенства дисперсий, 3) Стьюдента равенства средних. Привести значения средних с ошибками среднего, медиан с интерквартильным размахом, значимости соответствующих критериев.\n",
    "- Задача однородности в случае более двух выборок (табл. Варианты для проверки однородности трех независимых выборок) Проверить на предмет однородности данные метрической переменной в зависимости от фактора: 1) по критерию Краскела-Уоллиса, 2) при помощи однофакторного дисперсионного анализа. Построить бокс-плот. Применить критерий Стьюдента для множественных сравнений с поправкой Бонферони и критерий Тьюки.\n",
    "- Выполнить двухфакторный дисперсионный анализ для метрической переменной с двумя факторами (первый из своего варианта, второй произвольный). Сравнить результаты использования моделей с фиксированными и случайными эффектами."
   ]
  },
  {
   "cell_type": "code",
   "execution_count": 1,
   "id": "d276763c",
   "metadata": {},
   "outputs": [],
   "source": [
    "import pandas as pd\n",
    "import numpy as np\n",
    "import scipy\n",
    "import seaborn as sns\n",
    "import matplotlib.pyplot as plt"
   ]
  },
  {
   "cell_type": "code",
   "execution_count": 2,
   "id": "66b62020",
   "metadata": {},
   "outputs": [],
   "source": [
    "import warnings\n",
    "warnings.filterwarnings('ignore')"
   ]
  },
  {
   "cell_type": "markdown",
   "id": "c2299d5a",
   "metadata": {},
   "source": [
    "Считаем данные:"
   ]
  },
  {
   "cell_type": "code",
   "execution_count": 3,
   "id": "a3c340ca",
   "metadata": {},
   "outputs": [],
   "source": [
    "df = pd.read_csv(\"data_big.csv\")"
   ]
  },
  {
   "cell_type": "code",
   "execution_count": 12,
   "id": "1485c1cc",
   "metadata": {},
   "outputs": [
    {
     "data": {
      "text/html": [
       "<div>\n",
       "<style scoped>\n",
       "    .dataframe tbody tr th:only-of-type {\n",
       "        vertical-align: middle;\n",
       "    }\n",
       "\n",
       "    .dataframe tbody tr th {\n",
       "        vertical-align: top;\n",
       "    }\n",
       "\n",
       "    .dataframe thead th {\n",
       "        text-align: right;\n",
       "    }\n",
       "</style>\n",
       "<table border=\"1\" class=\"dataframe\">\n",
       "  <thead>\n",
       "    <tr style=\"text-align: right;\">\n",
       "      <th></th>\n",
       "      <th>Unnamed: 0</th>\n",
       "      <th>X.1</th>\n",
       "      <th>depressed.mood.1</th>\n",
       "      <th>anxiety.1</th>\n",
       "      <th>suspiciousness.1</th>\n",
       "      <th>irritability.1</th>\n",
       "      <th>craving.to.alcohol.1</th>\n",
       "      <th>weakness.1</th>\n",
       "      <th>insomia.1</th>\n",
       "      <th>headache.1</th>\n",
       "      <th>...</th>\n",
       "      <th>combined2.9</th>\n",
       "      <th>HR.9</th>\n",
       "      <th>SBP.9</th>\n",
       "      <th>DBP.9</th>\n",
       "      <th>MBP.9</th>\n",
       "      <th>SV.9</th>\n",
       "      <th>CO.9</th>\n",
       "      <th>SI.9</th>\n",
       "      <th>CI.9</th>\n",
       "      <th>TPR.9</th>\n",
       "    </tr>\n",
       "  </thead>\n",
       "  <tbody>\n",
       "    <tr>\n",
       "      <th>0</th>\n",
       "      <td>1</td>\n",
       "      <td>1</td>\n",
       "      <td>1</td>\n",
       "      <td>1</td>\n",
       "      <td>0</td>\n",
       "      <td>1</td>\n",
       "      <td>1</td>\n",
       "      <td>1</td>\n",
       "      <td>1</td>\n",
       "      <td>0</td>\n",
       "      <td>...</td>\n",
       "      <td>0</td>\n",
       "      <td>68.0</td>\n",
       "      <td>108.0</td>\n",
       "      <td>70.0</td>\n",
       "      <td>83.0</td>\n",
       "      <td>74.0</td>\n",
       "      <td>5.0</td>\n",
       "      <td>40.0</td>\n",
       "      <td>2.7</td>\n",
       "      <td>1321.0</td>\n",
       "    </tr>\n",
       "    <tr>\n",
       "      <th>1</th>\n",
       "      <td>2</td>\n",
       "      <td>2</td>\n",
       "      <td>1</td>\n",
       "      <td>1</td>\n",
       "      <td>0</td>\n",
       "      <td>0</td>\n",
       "      <td>1</td>\n",
       "      <td>1</td>\n",
       "      <td>2</td>\n",
       "      <td>1</td>\n",
       "      <td>...</td>\n",
       "      <td>9</td>\n",
       "      <td>63.0</td>\n",
       "      <td>114.0</td>\n",
       "      <td>70.0</td>\n",
       "      <td>85.0</td>\n",
       "      <td>123.0</td>\n",
       "      <td>7.7</td>\n",
       "      <td>60.0</td>\n",
       "      <td>3.8</td>\n",
       "      <td>879.0</td>\n",
       "    </tr>\n",
       "    <tr>\n",
       "      <th>2</th>\n",
       "      <td>3</td>\n",
       "      <td>3</td>\n",
       "      <td>1</td>\n",
       "      <td>1</td>\n",
       "      <td>0</td>\n",
       "      <td>0</td>\n",
       "      <td>0</td>\n",
       "      <td>2</td>\n",
       "      <td>1</td>\n",
       "      <td>0</td>\n",
       "      <td>...</td>\n",
       "      <td>0</td>\n",
       "      <td>64.0</td>\n",
       "      <td>120.0</td>\n",
       "      <td>80.0</td>\n",
       "      <td>93.0</td>\n",
       "      <td>106.0</td>\n",
       "      <td>6.8</td>\n",
       "      <td>55.0</td>\n",
       "      <td>3.5</td>\n",
       "      <td>1098.0</td>\n",
       "    </tr>\n",
       "    <tr>\n",
       "      <th>3</th>\n",
       "      <td>4</td>\n",
       "      <td>4</td>\n",
       "      <td>2</td>\n",
       "      <td>2</td>\n",
       "      <td>0</td>\n",
       "      <td>0</td>\n",
       "      <td>0</td>\n",
       "      <td>2</td>\n",
       "      <td>0</td>\n",
       "      <td>0</td>\n",
       "      <td>...</td>\n",
       "      <td>0</td>\n",
       "      <td>56.0</td>\n",
       "      <td>124.0</td>\n",
       "      <td>90.0</td>\n",
       "      <td>101.0</td>\n",
       "      <td>90.0</td>\n",
       "      <td>5.1</td>\n",
       "      <td>43.0</td>\n",
       "      <td>2.4</td>\n",
       "      <td>1600.0</td>\n",
       "    </tr>\n",
       "    <tr>\n",
       "      <th>4</th>\n",
       "      <td>5</td>\n",
       "      <td>5</td>\n",
       "      <td>1</td>\n",
       "      <td>1</td>\n",
       "      <td>0</td>\n",
       "      <td>0</td>\n",
       "      <td>2</td>\n",
       "      <td>2</td>\n",
       "      <td>1</td>\n",
       "      <td>0</td>\n",
       "      <td>...</td>\n",
       "      <td>0</td>\n",
       "      <td>66.0</td>\n",
       "      <td>116.0</td>\n",
       "      <td>78.0</td>\n",
       "      <td>90.0</td>\n",
       "      <td>90.0</td>\n",
       "      <td>5.9</td>\n",
       "      <td>45.0</td>\n",
       "      <td>2.2</td>\n",
       "      <td>1228.0</td>\n",
       "    </tr>\n",
       "  </tbody>\n",
       "</table>\n",
       "<p>5 rows × 121 columns</p>\n",
       "</div>"
      ],
      "text/plain": [
       "   Unnamed: 0  X.1  depressed.mood.1  anxiety.1  suspiciousness.1  \\\n",
       "0           1    1                 1          1                 0   \n",
       "1           2    2                 1          1                 0   \n",
       "2           3    3                 1          1                 0   \n",
       "3           4    4                 2          2                 0   \n",
       "4           5    5                 1          1                 0   \n",
       "\n",
       "   irritability.1  craving.to.alcohol.1  weakness.1  insomia.1  headache.1  \\\n",
       "0               1                     1           1          1           0   \n",
       "1               0                     1           1          2           1   \n",
       "2               0                     0           2          1           0   \n",
       "3               0                     0           2          0           0   \n",
       "4               0                     2           2          1           0   \n",
       "\n",
       "   ...  combined2.9  HR.9  SBP.9  DBP.9  MBP.9   SV.9  CO.9  SI.9  CI.9  \\\n",
       "0  ...            0  68.0  108.0   70.0   83.0   74.0   5.0  40.0   2.7   \n",
       "1  ...            9  63.0  114.0   70.0   85.0  123.0   7.7  60.0   3.8   \n",
       "2  ...            0  64.0  120.0   80.0   93.0  106.0   6.8  55.0   3.5   \n",
       "3  ...            0  56.0  124.0   90.0  101.0   90.0   5.1  43.0   2.4   \n",
       "4  ...            0  66.0  116.0   78.0   90.0   90.0   5.9  45.0   2.2   \n",
       "\n",
       "    TPR.9  \n",
       "0  1321.0  \n",
       "1   879.0  \n",
       "2  1098.0  \n",
       "3  1600.0  \n",
       "4  1228.0  \n",
       "\n",
       "[5 rows x 121 columns]"
      ]
     },
     "execution_count": 12,
     "metadata": {},
     "output_type": "execute_result"
    }
   ],
   "source": [
    "df.head()"
   ]
  },
  {
   "cell_type": "markdown",
   "id": "ce405e6a",
   "metadata": {},
   "source": [
    "## Задача однородности в случае двух выборок"
   ]
  },
  {
   "cell_type": "markdown",
   "id": "9a75c339",
   "metadata": {},
   "source": [
    "Сгруппируем переменную SBP.1 по переменной irritability.1"
   ]
  },
  {
   "cell_type": "code",
   "execution_count": 13,
   "id": "c76063e2",
   "metadata": {},
   "outputs": [
    {
     "data": {
      "text/plain": [
       "irritability.1\n",
       "0    21\n",
       "1    12\n",
       "2     1\n",
       "Name: SBP.1, dtype: int64"
      ]
     },
     "execution_count": 13,
     "metadata": {},
     "output_type": "execute_result"
    }
   ],
   "source": [
    "df.groupby(\"irritability.1\")[\"SBP.1\"].count()"
   ]
  },
  {
   "cell_type": "markdown",
   "id": "e7823915",
   "metadata": {},
   "source": [
    "Объеденим градации"
   ]
  },
  {
   "cell_type": "code",
   "execution_count": 14,
   "id": "3298927f",
   "metadata": {},
   "outputs": [],
   "source": [
    "df[\"irritability.1\"] = [0 if x < 1 else 1 for x in df[\"irritability.1\"]]"
   ]
  },
  {
   "cell_type": "markdown",
   "id": "a24ae96e",
   "metadata": {},
   "source": [
    "Создадаим две выборки на основе категориальной перменной"
   ]
  },
  {
   "cell_type": "code",
   "execution_count": 15,
   "id": "184950fb",
   "metadata": {},
   "outputs": [],
   "source": [
    "sample1 = df[df[\"irritability.1\"] == 0][\"SBP.1\"]\n",
    "sample2 = df[df[\"irritability.1\"] == 1][\"SBP.1\"]"
   ]
  },
  {
   "cell_type": "markdown",
   "id": "88f6d462",
   "metadata": {},
   "source": [
    "Критерий Вилкоксона"
   ]
  },
  {
   "cell_type": "code",
   "execution_count": 16,
   "id": "84e42145",
   "metadata": {},
   "outputs": [],
   "source": [
    "_, p_w = scipy.stats.ranksums(sample1, sample2)"
   ]
  },
  {
   "cell_type": "markdown",
   "id": "957f4ce5",
   "metadata": {},
   "source": [
    "Критерий Фишера равенства дисперсий"
   ]
  },
  {
   "cell_type": "code",
   "execution_count": 18,
   "id": "057aabe3",
   "metadata": {},
   "outputs": [],
   "source": [
    "_, p_f = scipy.stats.f_oneway(sample1, sample2)"
   ]
  },
  {
   "cell_type": "markdown",
   "id": "3e90e054",
   "metadata": {},
   "source": [
    "Критерий Стьюдента равенства средних"
   ]
  },
  {
   "cell_type": "code",
   "execution_count": 21,
   "id": "914503c5",
   "metadata": {},
   "outputs": [],
   "source": [
    "_, p_t = scipy.stats.ttest_ind(sample1, sample2)"
   ]
  },
  {
   "cell_type": "code",
   "execution_count": 24,
   "id": "9f630359",
   "metadata": {},
   "outputs": [
    {
     "name": "stdout",
     "output_type": "stream",
     "text": [
      "Критерий Вилкоксона: p-value = 0.6577793366559057\n",
      "Критерий Фишера: p-value = 0.6365847115986595\n",
      "Критерий Стьюдента: p-value = 0.6365847115986625\n"
     ]
    }
   ],
   "source": [
    "print(f'Критерий Вилкоксона: p-value = {p_w}')\n",
    "print(f'Критерий Фишера: p-value = {p_f}')\n",
    "print(f'Критерий Стьюдента: p-value = {p_t}')"
   ]
  },
  {
   "cell_type": "markdown",
   "id": "9663db0e",
   "metadata": {},
   "source": [
    "Так как p уровень значимости во всех случаях больше 0.05, то гипотеза об однородности выборок не может быть отвергнута."
   ]
  },
  {
   "cell_type": "markdown",
   "id": "175fd201",
   "metadata": {},
   "source": [
    "Выведем значения средних с ошибками среднего, медиан с интерквартильным размахом"
   ]
  },
  {
   "cell_type": "code",
   "execution_count": 27,
   "id": "0f672d24",
   "metadata": {},
   "outputs": [],
   "source": [
    "mean1 = np.mean(sample1)\n",
    "mean2 = np.mean(sample2)\n",
    "\n",
    "se1 = np.std(sample1, ddof=1) / np.sqrt(len(sample1))\n",
    "se2 = np.std(sample2, ddof=1) / np.sqrt(len(sample2))\n",
    "\n",
    "median1 = np.median(sample1)\n",
    "median2 = np.median(sample2)\n",
    "\n",
    "iqr1 = scipy.stats.iqr(sample1)\n",
    "iqr2 = scipy.stats.iqr(sample2)"
   ]
  },
  {
   "cell_type": "code",
   "execution_count": 28,
   "id": "4e652a74",
   "metadata": {},
   "outputs": [
    {
     "name": "stdout",
     "output_type": "stream",
     "text": [
      "Среднее первой группы 142.76190476190476+-3.398812651153594\n",
      "Среднее второй группы 139.84615384615384+-5.5166951202064505\n"
     ]
    }
   ],
   "source": [
    "print(f'Среднее первой группы {mean1}+-{se1}')\n",
    "print(f'Среднее второй группы {mean2}+-{se2}')"
   ]
  },
  {
   "cell_type": "code",
   "execution_count": 29,
   "id": "19a57602",
   "metadata": {},
   "outputs": [
    {
     "name": "stdout",
     "output_type": "stream",
     "text": [
      "Медиана первой группы 144.0 с интерквантильным размахом 22.0\n",
      "Медиана второй группы 140.0 с интерквантильным размахом 36.0\n"
     ]
    }
   ],
   "source": [
    "print(f'Медиана первой группы {median1} с интерквантильным размахом {iqr1}')\n",
    "print(f'Медиана второй группы {median2} с интерквантильным размахом {iqr2}')"
   ]
  },
  {
   "cell_type": "markdown",
   "id": "8e021efb",
   "metadata": {},
   "source": [
    "## Задача однородности в случае более двух выборок"
   ]
  },
  {
   "cell_type": "code",
   "execution_count": 4,
   "id": "75b62551",
   "metadata": {},
   "outputs": [
    {
     "data": {
      "text/plain": [
       "array([1, 0, 2])"
      ]
     },
     "execution_count": 4,
     "metadata": {},
     "output_type": "execute_result"
    }
   ],
   "source": [
    "df[\"craving.to.alcohol.1\"].unique()"
   ]
  },
  {
   "cell_type": "code",
   "execution_count": 5,
   "id": "ae2fc3bc",
   "metadata": {},
   "outputs": [],
   "source": [
    "samples = [df[df[\"craving.to.alcohol.1\"] == i][\"HR.1\"] for i in df[\"craving.to.alcohol.1\"].unique()]"
   ]
  },
  {
   "cell_type": "markdown",
   "id": "b5c7d3c1",
   "metadata": {},
   "source": [
    "Критерий Краскела-Уоллиса"
   ]
  },
  {
   "cell_type": "code",
   "execution_count": 34,
   "id": "df3165fa",
   "metadata": {},
   "outputs": [],
   "source": [
    "_, p_kw = scipy.stats.kruskal(samples[0], samples[1], samples[2])"
   ]
  },
  {
   "cell_type": "code",
   "execution_count": 35,
   "id": "2c19d342",
   "metadata": {},
   "outputs": [
    {
     "name": "stdout",
     "output_type": "stream",
     "text": [
      "Критерий Краскела-Уоллиса: p_value = 0.013658667170609904\n"
     ]
    }
   ],
   "source": [
    "print(f\"Критерий Краскела-Уоллиса: p_value = {p_kw}\")"
   ]
  },
  {
   "cell_type": "markdown",
   "id": "6bb56cd2",
   "metadata": {},
   "source": [
    "P уровень значимости меньше 0.05, значит гипотеза о различных распределениях отвергается"
   ]
  },
  {
   "cell_type": "markdown",
   "id": "8b503355",
   "metadata": {},
   "source": [
    "Однофакторный дисперсионный анализ"
   ]
  },
  {
   "cell_type": "code",
   "execution_count": 36,
   "id": "9c5bdc50",
   "metadata": {},
   "outputs": [],
   "source": [
    "_, p_aov = scipy.stats.f_oneway(samples[0], samples[1], samples[2])"
   ]
  },
  {
   "cell_type": "code",
   "execution_count": 37,
   "id": "80737133",
   "metadata": {},
   "outputs": [
    {
     "name": "stdout",
     "output_type": "stream",
     "text": [
      "Однофакторный дисперсионный анализ: p_value = 0.014703465302439333\n"
     ]
    }
   ],
   "source": [
    "print(f\"Однофакторный дисперсионный анализ: p_value = {p_aov}\")"
   ]
  },
  {
   "cell_type": "markdown",
   "id": "b5f5580f",
   "metadata": {},
   "source": [
    "P уровень значимости меньше 0.05, значит гипотеза о том, что между группами нет значимых различий отвергается"
   ]
  },
  {
   "cell_type": "markdown",
   "id": "009a428c",
   "metadata": {},
   "source": [
    "Боксплот"
   ]
  },
  {
   "cell_type": "code",
   "execution_count": 39,
   "id": "7a96163c",
   "metadata": {},
   "outputs": [
    {
     "data": {
      "image/png": "[encoded data removed]",
      "text/plain": [
       "<Figure size 640x480 with 1 Axes>"
      ]
     },
     "metadata": {},
     "output_type": "display_data"
    }
   ],
   "source": [
    "sns.boxplot(samples);"
   ]
  },
  {
   "cell_type": "markdown",
   "id": "212df4f0",
   "metadata": {},
   "source": [
    "Критерий Стьюдента для множественных сравнений с поправкой Бонферони"
   ]
  },
  {
   "cell_type": "code",
   "execution_count": 42,
   "id": "c9bfc094",
   "metadata": {},
   "outputs": [
    {
     "name": "stdout",
     "output_type": "stream",
     "text": [
      "Выборки 1 и 2 значимо различаются\n"
     ]
    }
   ],
   "source": [
    "alpha = 0.05 / 3 # поправка Бонферони\n",
    "p_values = []\n",
    "\n",
    "for i in range(3):\n",
    "    for j in range(i+1, 3):\n",
    "        _, p_value = scipy.stats.ttest_ind(samples[i], samples[j])\n",
    "        if p_value < alpha:\n",
    "            print(f\"Выборки {i+1} и {j+1} значимо различаются\")\n",
    "        p_values.append(p_value)"
   ]
  },
  {
   "cell_type": "markdown",
   "id": "f209c184",
   "metadata": {},
   "source": [
    "Критерий Тьюки"
   ]
  },
  {
   "cell_type": "code",
   "execution_count": 47,
   "id": "648274d6",
   "metadata": {},
   "outputs": [],
   "source": [
    "p_tukey = scipy.stats.tukey_hsd(samples[0], samples[1], samples[2]).pvalue"
   ]
  },
  {
   "cell_type": "code",
   "execution_count": 48,
   "id": "bcd1258a",
   "metadata": {},
   "outputs": [
    {
     "name": "stdout",
     "output_type": "stream",
     "text": [
      "[[1.         0.018007   0.98179562]\n",
      " [0.018007   1.         0.08161527]\n",
      " [0.98179562 0.08161527 1.        ]]\n"
     ]
    }
   ],
   "source": [
    "print(p_tukey)"
   ]
  },
  {
   "cell_type": "markdown",
   "id": "658cf2d1",
   "metadata": {},
   "source": [
    "Можно сделать вывод о том, что группы 1 и 2 значимо различаются, а группы 1 и 3, а также группы 2 и 3 не различаются. Результат совпадает с тестом Стьюдента."
   ]
  },
  {
   "cell_type": "markdown",
   "id": "85828bfc",
   "metadata": {},
   "source": [
    "## Двухфакторный дисперсионный анализ"
   ]
  },
  {
   "cell_type": "code",
   "execution_count": 6,
   "id": "3e4a8b1e",
   "metadata": {},
   "outputs": [],
   "source": [
    "from statsmodels.formula.api import ols\n",
    "from statsmodels.stats.anova import anova_lm"
   ]
  },
  {
   "cell_type": "code",
   "execution_count": 7,
   "id": "55d2fd69",
   "metadata": {},
   "outputs": [],
   "source": [
    "data = pd.DataFrame({\"HR\": df[\"HR.1\"], \"irritability\": df[\"irritability.1\"], \"craving\": df[\"craving.to.alcohol.1\"]})"
   ]
  },
  {
   "cell_type": "markdown",
   "id": "3f844d0f",
   "metadata": {},
   "source": [
    "Двухфакторный анализ с фиксированными эффектами"
   ]
  },
  {
   "cell_type": "code",
   "execution_count": 29,
   "id": "d3556ce8",
   "metadata": {},
   "outputs": [
    {
     "name": "stdout",
     "output_type": "stream",
     "text": [
      "                              df       sum_sq     mean_sq         F    PR(>F)\n",
      "C(irritability)              2.0  1545.654062  772.827031  2.835220  0.076264\n",
      "C(craving)                   2.0  1739.310097  869.655048  3.190447  0.057041\n",
      "C(irritability):C(craving)   4.0  1959.302421  489.825605  1.796991  0.158587\n",
      "Residual                    27.0  7359.686508  272.580982       NaN       NaN\n"
     ]
    }
   ],
   "source": [
    "model = ols(\"HR ~ C(irritability) + C(craving) + C(irritability) * C(craving)\", data).fit()\n",
    "anova_table = anova_lm(model)\n",
    "print(anova_table)"
   ]
  },
  {
   "cell_type": "markdown",
   "id": "4272d60e",
   "metadata": {},
   "source": [
    "Двухфакторный анализ со случайными эффектами"
   ]
  },
  {
   "cell_type": "code",
   "execution_count": 27,
   "id": "e0cea35c",
   "metadata": {},
   "outputs": [
    {
     "name": "stdout",
     "output_type": "stream",
     "text": [
      "                   df       sum_sq     mean_sq         F    PR(>F)\n",
      "C(irritability)   2.0  1545.654062  772.827031  2.958055  0.067748\n",
      "C(craving)        2.0  1739.310097  869.655048  3.328672  0.049959\n",
      "Residual         29.0  7576.594665  261.261885       NaN       NaN\n"
     ]
    }
   ],
   "source": [
    "model_random = ols(\"HR ~ C(irritability) + C(craving)\", data).fit()\n",
    "anova_table_random = anova_lm(model_random)\n",
    "print(anova_table_random)"
   ]
  },
  {
   "cell_type": "markdown",
   "id": "078b68b2",
   "metadata": {},
   "source": [
    "Фактор \"craving\" оказывает значимое влияние на зависимую переменную в модели со случайными эффектами, в то время как фактор \"irritability\" не оказывает статистически значимого влияния в обеих моделях."
   ]
  },
  {
   "cell_type": "code",
   "execution_count": null,
   "id": "bfd233af",
   "metadata": {},
   "outputs": [],
   "source": []
  }
 ],
 "metadata": {
  "kernelspec": {
   "display_name": "Python 3 (ipykernel)",
   "language": "python",
   "name": "python3"
  },
  "language_info": {
   "codemirror_mode": {
    "name": "ipython",
    "version": 3
   },
   "file_extension": ".py",
   "mimetype": "text/x-python",
   "name": "python",
   "nbconvert_exporter": "python",
   "pygments_lexer": "ipython3",
   "version": "3.10.12"
  }
 },
 "nbformat": 4,
 "nbformat_minor": 5
}
